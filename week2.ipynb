{
  "nbformat": 4,
  "nbformat_minor": 0,
  "metadata": {
    "colab": {
      "provenance": [],
      "authorship_tag": "ABX9TyPoW6FJEd4efqngW2GaVNLs",
      "include_colab_link": true
    },
    "kernelspec": {
      "name": "python3",
      "display_name": "Python 3"
    },
    "language_info": {
      "name": "python"
    }
  },
  "cells": [
    {
      "cell_type": "markdown",
      "metadata": {
        "id": "view-in-github",
        "colab_type": "text"
      },
      "source": [
        "<a href=\"https://colab.research.google.com/github/muskan2911/python-programs/blob/main/week2.ipynb\" target=\"_parent\"><img src=\"https://colab.research.google.com/assets/colab-badge.svg\" alt=\"Open In Colab\"/></a>"
      ]
    },
    {
      "cell_type": "markdown",
      "source": [
        "Q1 Develop a checker program in python, which checks for the\n",
        "occurrence of all the characters from the alphabets that exist atleast once, in the\n",
        "given sentence"
      ],
      "metadata": {
        "id": "_e94-W_-UFha"
      }
    },
    {
      "cell_type": "code",
      "execution_count": 11,
      "metadata": {
        "colab": {
          "base_uri": "https://localhost:8080/"
        },
        "id": "mnCTnMyoUBrC",
        "outputId": "56a05f3e-7ca4-45fb-8f96-dbef788c4d0d"
      },
      "outputs": [
        {
          "output_type": "stream",
          "name": "stdout",
          "text": [
            "String:muskan\n",
            "occurence of all characters are:{'m': 1, 'u': 1, 's': 1, 'k': 1, 'a': 1, 'n': 1}\n"
          ]
        }
      ],
      "source": [
        "freq={}\n",
        "for ele in x:\n",
        "  if ele in freq:\n",
        "    freq[ele]+=1\n",
        "  else:\n",
        "    freq[ele]=1\n",
        "x=input(\"String:\")\n",
        "print(\"occurence of all characters are:\"+str(freq))"
      ]
    },
    {
      "cell_type": "markdown",
      "source": [
        "Develop a Numeric adder- classifier using lambda functions in python that\n",
        "could classify the non-negative values and negative values of the given 10 elements that are presented in the tuple. The adder implements the addition that\n",
        "could be done separately for the negative and non-negative elements."
      ],
      "metadata": {
        "id": "8uWonoKtX6tA"
      }
    },
    {
      "cell_type": "code",
      "source": [
        "nums = []\n",
        "for i in range(0, 10):\n",
        "    ele = int(input())\n",
        "    nums.append(ele) \n",
        "print(\"Original list:\",nums)\n",
        "negative_nums = list(filter(lambda nums:nums<0,nums))\n",
        "positive_nums = list(filter(lambda nums:nums>0,nums))\n",
        "print(\"negative numbers are:\",negative_nums)\n",
        "print(\"positive numbers are:\",positive_nums)\n",
        "print(\"Sum of the positive numbers: \",sum(positive_nums))\n",
        "print(\"Sum of the negative numbers: \",sum(negative_nums))"
      ],
      "metadata": {
        "colab": {
          "base_uri": "https://localhost:8080/"
        },
        "id": "9mg__NSyYMJp",
        "outputId": "171b46c4-b655-499a-e45f-578303386945"
      },
      "execution_count": 18,
      "outputs": [
        {
          "output_type": "stream",
          "name": "stdout",
          "text": [
            "1\n",
            "2\n",
            "-3\n",
            "6\n",
            "-4\n",
            "2\n",
            "3\n",
            "4\n",
            "5\n",
            "6\n",
            "Original list: [1, 2, -3, 6, -4, 2, 3, 4, 5, 6]\n",
            "negative numbers are: [-3, -4]\n",
            "positive numbers are: [1, 2, 6, 2, 3, 4, 5, 6]\n",
            "Sum of the positive numbers:  29\n",
            "Sum of the negative numbers:  -7\n"
          ]
        }
      ]
    },
    {
      "cell_type": "markdown",
      "source": [
        "Develop a redundancy remover in python, where the redundancy remover takes the elements of the list and returns the elements of the list with the redundant element removed."
      ],
      "metadata": {
        "id": "AiLwQYVkcaVR"
      }
    },
    {
      "cell_type": "code",
      "source": [
        "string=input(\"Enter a string:\")\n",
        "p=\"\"\n",
        "for char in string:\n",
        "  if char not in p:\n",
        "    p=p+char\n",
        "print(p)\n",
        " \n"
      ],
      "metadata": {
        "colab": {
          "base_uri": "https://localhost:8080/"
        },
        "id": "eYMsq4pYdFvB",
        "outputId": "e4aefab2-00dc-4643-bdbe-cdc1b3d73170"
      },
      "execution_count": 23,
      "outputs": [
        {
          "output_type": "stream",
          "name": "stdout",
          "text": [
            "Enter a string:hello\n",
            "helo\n"
          ]
        }
      ]
    },
    {
      "cell_type": "markdown",
      "source": [
        "Develop an arithmetic encoder in python which can generate\n",
        "element-wise average of the given tuple\n",
        "Tuple\n",
        "(1, 2, 3, 4)\n",
        "(3, 5, 2, 1)\n",
        "(2, 2, 3, 1)"
      ],
      "metadata": {
        "id": "C5qvaxW5f-VC"
      }
    },
    {
      "cell_type": "code",
      "source": [
        "tuples = [(1, 2, 3, 4), (3, 5, 2, 1), (2, 2, 3, 1)]\n",
        "print(\"The original list is : \" + str(tuples))\n",
        "sum = 0\n",
        "for sub in tuples:\n",
        "    for i in sub:\n",
        "        sum = sum + i\n",
        "res = sum / len(tuples)\n",
        "print(\"The mean of tuple list is : \" + str(res))"
      ],
      "metadata": {
        "colab": {
          "base_uri": "https://localhost:8080/"
        },
        "id": "DEh5wH8xgIbZ",
        "outputId": "98b6c82e-28bc-483f-9193-0a194840020c"
      },
      "execution_count": 27,
      "outputs": [
        {
          "output_type": "stream",
          "name": "stdout",
          "text": [
            "The original list is : [(1, 2, 3, 4), (3, 5, 2, 1), (2, 2, 3, 1)]\n",
            "The mean of tuple list is : 9.666666666666666\n"
          ]
        }
      ]
    },
    {
      "cell_type": "markdown",
      "source": [
        "Develop a NLP application in python, where the word\n",
        "analyzer needs to count the characters of the word that are presented in the\n",
        "given gazetteers.\n",
        "Gazetteers\n",
        "{1:’Apple’, 2:’Oracle’,3:’Advanced Programming Practice’,4:’Software Project\n",
        "Management’, 5:’Fundamentals of mathematics’}\n",
        "\n",
        "*   List item\n",
        "*   List item\n",
        "\n"
      ],
      "metadata": {
        "id": "xzJ8dcejhZji"
      }
    },
    {
      "cell_type": "code",
      "source": [
        "gazetteers={1:\"Apple\", 2:\"Oracle\",3:\"Advanced Programming Practice\",4:\"Software Project Management\", 5:\"Fundamentals of mathematics\"}\n",
        "resultList = list(gazetteers.values())\n",
        "str1 = \"\"\n",
        "for ele in resultList:\n",
        "  str1 += ele\n",
        "freq={}\n",
        "for ele in str1:\n",
        "  if ele in freq:\n",
        "    freq[ele]+=1\n",
        "  else:\n",
        "    freq[ele]=1\n",
        "print(str(freq))"
      ],
      "metadata": {
        "colab": {
          "base_uri": "https://localhost:8080/"
        },
        "id": "xihfzm3rhhMS",
        "outputId": "0fdb7880-085d-4ef0-cdaa-c6a80128d909"
      },
      "execution_count": 31,
      "outputs": [
        {
          "output_type": "stream",
          "name": "stdout",
          "text": [
            "{'A': 2, 'p': 2, 'l': 3, 'e': 10, 'O': 1, 'r': 6, 'a': 11, 'c': 6, 'd': 3, 'v': 1, 'n': 6, ' ': 6, 'P': 3, 'o': 4, 'g': 3, 'm': 6, 'i': 3, 't': 7, 'S': 1, 'f': 2, 'w': 1, 'j': 1, 'M': 1, 'F': 1, 'u': 1, 's': 2, 'h': 1}\n"
          ]
        }
      ]
    }
  ]
}